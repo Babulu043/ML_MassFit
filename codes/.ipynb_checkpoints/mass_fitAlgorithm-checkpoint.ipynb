{
 "cells": [
  {
   "cell_type": "code",
   "execution_count": 15,
   "metadata": {},
   "outputs": [],
   "source": [
    "from keras.layers import Input, Dense, Reshape, Flatten, Dropout,Embedding,Concatenate\n",
    "from keras.layers import BatchNormalization, Activation, ZeroPadding2D\n",
    "from keras.layers.advanced_activations import LeakyReLU\n",
    "from keras.layers.convolutional import UpSampling2D, Conv2D,Conv2DTranspose\n",
    "from keras.models import Sequential, Model\n",
    "from keras.optimizers import Adam\n",
    "\n",
    "\n",
    "from tqdm import tqdm\n",
    "\n",
    "import matplotlib.pyplot as plt\n",
    "\n",
    "import sys\n",
    "\n",
    "import numpy as np\n",
    "\n",
    "from load_data import load_data"
   ]
  },
  {
   "cell_type": "code",
   "execution_count": 42,
   "metadata": {},
   "outputs": [],
   "source": [
    "class GAN_MassFit:\n",
    "    def __init__(self,gen_kinematics,reco_kinematics,true_vals,scale,epochs, sample_interval):\n",
    "        self.neutrino_pz = true_vals\n",
    "        self.scale = scale\n",
    "        batch_size = 128\n",
    "        noise = np.random.normal(0,1,(reco_kinematics.shape[0],))\n",
    "        noise_kinematics = np.random.normal(0,1,(reco_kinematics.shape[0],9))\n",
    "        #np.concatenate((reco_kinematics,noise.reshape(1,-1).T),axis=1)\n",
    "        self.noise_shape = noise_kinematics.shape\n",
    "        self.reco_kinematics = reco_kinematics\n",
    "        self.latent_dim  = noise.shape[0]\n",
    "        self.input_dim = gen_kinematics.shape[1]\n",
    "        self.optimizer = Adam(0.0002, 0.5)\n",
    "        discriminator = self.build_discriminator()\n",
    "        generator = self.build_generator()\n",
    "        self.generator = generator\n",
    "        print('gen kinematics shape: ',gen_kinematics.shape,'  reco kinematics shape: ',reco_kinematics.shape)\n",
    "        print('1d noise shape: ',noise.shape,' noise input shape: ',self.noise_shape)\n",
    "        print('latent dim: ',self.latent_dim,' input dim: ',self.input_dim)\n",
    "        \n",
    "        gan = self.build_GAN(generator,discriminator)\n",
    "        \n",
    "        # Adversarial ground truths\n",
    "        valid = np.ones((9000, 1))\n",
    "        fake = np.zeros((self.latent_dim, 1))\n",
    "        \n",
    "        batch_count = int(self.input_dim / batch_size)\n",
    "        \n",
    "        for epoch in range(1,epochs+1):\n",
    "            print('-'*15, f'Epoch {epoch}', '-'*15)\n",
    "            \n",
    "            # ---------------------\n",
    "            #  Train Discriminator\n",
    "            # ---------------------\n",
    "                \n",
    "            reco_ = generator.predict(noise_kinematics)\n",
    "            reco_momenta = np.concatenate((reco_kinematics,(reco_[:,-1].reshape(1,-1)).T),axis=1)\n",
    "        \n",
    "            # Train the discriminator\n",
    "            d_loss_real = discriminator.train_on_batch(gen_kinematics, valid)\n",
    "            d_loss_fake = discriminator.train_on_batch(reco_momenta, fake)\n",
    "            d_loss = 0.5 * np.add(d_loss_real, d_loss_fake)\n",
    "                \n",
    "            # ---------------------\n",
    "            #  Train Generator\n",
    "            # ---------------------\n",
    "            noise = np.random.normal(0,1,(reco_kinematics.shape[0],))\n",
    "            noise_kinematics = np.random.normal(0,1,(reco_kinematics.shape[0],9))\n",
    "            #np.concatenate((reco_kinematics,noise.reshape(1,-1).T),axis=1)\n",
    "            # Train the generator (to have the discriminator label samples as valid)\n",
    "            g_loss = gan.train_on_batch(noise_kinematics, np.ones((1000, 1)))\n",
    "                \n",
    "            # Plot the progress\n",
    "            print (\"%d [D loss: %f, acc.: %.2f%%] [G loss: %f]\" % (epoch, d_loss[0], 100*d_loss[1], g_loss))\n",
    "            if(epoch == 1 or epoch % sample_interval == 0):\n",
    "                #self.validation_plots(epoch,true_vals)\n",
    "                self.fitted_mass(epoch)\n",
    "    \n",
    "    def fitted_mass(self,epoch):\n",
    "        noise = np.random.normal(0, 1, (self.latent_dim,))\n",
    "        noise_kinematics = np.random.normal(0,1,(self.reco_kinematics.shape[0],9))\n",
    "        #np.concatenate((self.reco_kinematics,noise.reshape(1,-1).T),axis=1)\n",
    "        reco = self.generator.predict(noise_kinematics)\n",
    "        inv_px = reco[:,5]\n",
    "        inv_py = reco[:,6]\n",
    "        inv_pz = reco[:,-1]\n",
    "        inv_e  = np.sqrt(inv_px**2+inv_py**2+inv_pz**2)\n",
    "        recoinv_pz = reco[:,-1]\n",
    "        recoinv_e = np.sqrt(inv_px**2+inv_py**2)\n",
    "        \n",
    "        muon_px = self.reco_kinematics[:,1]\n",
    "        muon_py = self.reco_kinematics[:,2]\n",
    "        muon_pz = self.reco_kinematics[:,3]\n",
    "        muon_e = self.reco_kinematics[:,4]\n",
    "        \n",
    "        invmass = np.sqrt((muon_e+recoinv_e)**2 - (muon_px+inv_px)**2 - (muon_py+inv_py)**2 - (muon_pz)**2)\n",
    "        invmass_ = np.sqrt((muon_e+inv_e)**2 - (muon_px+inv_px)**2 - (muon_py+inv_py)**2 - (muon_pz+inv_pz)**2)\n",
    "        plt.hist(self.scale*invmass,50,density=True,log=True,label='gan W mass',alpha=0.5)\n",
    "        #plt.hist(self.scale*invmass_,50,density=True,log=True,label='W mass',alpha=0.5)\n",
    "        #plt.set_yscale('log')\n",
    "        plt.legend()\n",
    "        plt.savefig('../plots/'+f'invmass_{epoch}.png')\n",
    "        plt.close()\n",
    "        \n",
    "        \n",
    "    def validation_plots(self,epoch,true_vals):\n",
    "        noise = np.random.normal(0, 1, (self.latent_dim,))\n",
    "        noise_kinematics = np.concatenate((self.reco_kinematics,noise.reshape(1,-1).T),axis=1)\n",
    "        reco = self.generator.predict(noise_kinematics)\n",
    "        reco_pz = reco[:,-1]\n",
    "        x_vals = np.linspace(-1,1,reco_pz.shape[0])\n",
    "        xbins = 50\n",
    "        plt.hist(reco_pz,xbins,density=True,label='reco pz')\n",
    "        plt.hist(true_vals,xbins,density=True,label='gen pz',alpha=0.5)\n",
    "        \n",
    "        plt.legend()\n",
    "        plt.savefig('../plots/'+f'val_{epoch}.png')\n",
    "        plt.close()\n",
    "        \n",
    "        \n",
    "        \n",
    "    def build_GAN(self,generator,discriminator):\n",
    "        \n",
    "        discriminator.compile(loss='binary_crossentropy',\n",
    "            optimizer=self.optimizer,\n",
    "            metrics=['accuracy'])\n",
    "\n",
    "        # Build the generator\n",
    "        generator = self.build_generator()\n",
    "\n",
    "        # The generator takes noise as input and generates imgs\n",
    "        z = Input(shape=9)\n",
    "        img = generator(z)\n",
    "\n",
    "        # For the combined model we will only train the generator\n",
    "        discriminator.trainable = False\n",
    "\n",
    "        # The discriminator takes generated images as input and determines validity\n",
    "        validity = discriminator(img)\n",
    "\n",
    "        # The combined model  (stacked generator and discriminator)\n",
    "        # Trains the generator to fool the discriminator\n",
    "        combined = Model(z, validity)\n",
    "        combined.compile(loss='binary_crossentropy', optimizer=self.optimizer)\n",
    "        return combined\n",
    "        \n",
    "    def build_generator(self):\n",
    "        model = Sequential()\n",
    "        model.add(Dense(512, input_dim=self.input_dim))\n",
    "        model.add(LeakyReLU(alpha=0.2))\n",
    "        model.add(BatchNormalization(momentum=0.8))\n",
    "        model.add(Dense(256))\n",
    "        model.add(LeakyReLU(alpha=0.2))\n",
    "        model.add(BatchNormalization(momentum=0.8))\n",
    "        model.add(Dense(128))\n",
    "        model.add(LeakyReLU(alpha=0.2))\n",
    "        model.add(BatchNormalization(momentum=0.8))\n",
    "        model.add(Dense(self.input_dim, activation='tanh'))\n",
    "        noise = Input(shape=9)\n",
    "        img = model(noise)\n",
    "\n",
    "        return Model(noise, img)\n",
    "    \n",
    "    def build_discriminator(self):\n",
    "        model = Sequential()\n",
    "        model.add(Dense(160,input_dim=self.input_dim))\n",
    "        model.add(LeakyReLU(alpha=0.2))\n",
    "        model.add(BatchNormalization(momentum=0.8))\n",
    "        model.add(Dense(40))\n",
    "        model.add(LeakyReLU(alpha=0.2))\n",
    "        model.add(BatchNormalization(momentum=0.8))\n",
    "        model.add(Dense(40))\n",
    "        model.add(LeakyReLU(alpha=0.2))\n",
    "        model.add(BatchNormalization(momentum=0.8))\n",
    "        model.add(Dense(1, activation='sigmoid'))\n",
    "        img = Input(shape=self.input_dim)\n",
    "        validity = model(img)\n",
    "\n",
    "        return Model(img, validity)\n",
    "    \n",
    "    \n",
    "        \n",
    "        "
   ]
  },
  {
   "cell_type": "code",
   "execution_count": null,
   "metadata": {},
   "outputs": [],
   "source": []
  },
  {
   "cell_type": "code",
   "execution_count": 131,
   "metadata": {},
   "outputs": [],
   "source": [
    "class ML_MassFit:\n",
    "    def __init__(self,X_train,y_train,X_input,epoch,batch_size):\n",
    "        self.X_train = X_train\n",
    "        self.y_train = y_train\n",
    "        self.X_input = X_input\n",
    "        self.latent_dim = X_train.shape[1]\n",
    "        opt = Adam(lr=0.0002, beta_1=0.5)\n",
    "        discriminator = self.build_discriminator(opt)\n",
    "        generator     = self.build_generator(opt)\n",
    "        \n",
    "        bat_per_epo = int(X_train.shape[0] / batch_size)\n",
    "        half_batch = int(batch_size / 2)\n",
    "    \n",
    "        ## select real samples\n",
    "        X_3d = np.expand_dims(self.X_train,axis=-1)\n",
    "        \n",
    "        # manually enumerate epochs\n",
    "        for i in range(epoch):\n",
    "            # enumerate batches over the training set\n",
    "            for j in range(bat_per_epo):\n",
    "                # choose random instances\n",
    "                ix = np.random.randint(0,X_3d.shape[0],half_batch)\n",
    "                # select images and labels\n",
    "                X_real, labels_real = X_3d[ix], self.y_train[ix]\n",
    "                # generate class labels\n",
    "                y_real = np.ones((half_batch, 1))\n",
    "                # update discriminator model weights\n",
    "                d_loss1, _ = discriminator.train_on_batch([X_real, labels_real], y_real)\n",
    "                X_fake_input = self.noise_input()\n",
    "                iy = np.random.randint(0,X_fake_input.shape[0],half_batch)\n",
    "                z_input = X_fake_input[iy]\n",
    "                print('z ',z_input.shape)\n",
    "                labels_fake = np.random.normal(0, 1, (half_batch,))\n",
    "                X_fake = generator.predict([z_input,labels_fake])\n",
    "                y_fake = np.zeros((half_batch, 1))\n",
    "                # update discriminator model weights\n",
    "                d_loss2, _ = d_model.train_on_batch([X_fake, labels_fake], y_fake)\n",
    "                y_gan = np.ones((half_batch, 1))\n",
    "                # update the generator via the discriminator's error\n",
    "                g_loss = gan_model.train_on_batch([z_input, labels_fake], y_gan)\n",
    "                # summarize loss on this batch\n",
    "                print('>%d, %d/%d, d1=%.3f, d2=%.3f g=%.3f' %\n",
    "                      (i+1, j+1, bat_per_epo, d_loss1, d_loss2, g_loss))\n",
    "        \n",
    "        \n",
    "    def noise_input(self):\n",
    "        pz =  np.random.normal(0, 1, (self.X_input.shape[0],))\n",
    "        X  =  np.concatenate((self.X_input,pz.reshape(1,-1).T),axis=1)\n",
    "        X_3d = np.expand_dims(X,axis=-1)\n",
    "        return X_3d\n",
    "        \n",
    "    def build_discriminator(self,optimizer):\n",
    "        in_shape = (8,1)\n",
    "        nclasses = 1\n",
    "        # label input\n",
    "        in_label = Input(shape=(1,))\n",
    "        li = Embedding(nclasses,5)(in_label)\n",
    "        n_nodes = in_shape[0] * in_shape[1]\n",
    "        li = Dense(n_nodes)(li)\n",
    "        li = Reshape((in_shape[0], in_shape[1]))(li)\n",
    "        in_kin = Input(shape=in_shape)\n",
    "        # concat label as a channel\n",
    "        merge = Concatenate()([in_kin, li])\n",
    "        fe = Flatten()(merge)\n",
    "        fe = LeakyReLU(alpha=0.2)(fe)\n",
    "        fe = Dropout(0.1)(fe)\n",
    "        fe = Dense(32)(fe)\n",
    "        fe = LeakyReLU(alpha=0.2)(fe)\n",
    "        fe = Dropout(0.1)(fe)\n",
    "        fe = Dense(64)(fe)\n",
    "        fe = LeakyReLU(alpha=0.2)(fe)\n",
    "        fe = Dropout(0.1)(fe)\n",
    "        # output\n",
    "        out_layer = Dense(1, activation='sigmoid')(fe)\n",
    "        # define model\n",
    "        model = Model([in_kin, in_label], out_layer)\n",
    "        # compile model\n",
    "        model.compile(loss='binary_crossentropy', optimizer=optimizer, metrics=['accuracy'])\n",
    "        print('-'*15,' discriminate model ','-'*15)\n",
    "        model.summary()\n",
    "        return model\n",
    "    \n",
    "    def build_generator(self,optimizer):\n",
    "        in_shape = (8,1)\n",
    "        nclasses = 1\n",
    "        # label input\n",
    "        in_label = Input(shape=(1,))\n",
    "        li = Embedding(nclasses,5)(in_label)\n",
    "        n_nodes = in_shape[0]*in_shape[1]\n",
    "        li = Dense(n_nodes)(li)\n",
    "        li = Reshape((in_shape[0], in_shape[1]))(li)\n",
    "        in_lat = Input(shape=(self.latent_dim,))\n",
    "        n_nodes = 8*1\n",
    "        gen = Dense(n_nodes)(in_lat)\n",
    "        gen = LeakyReLU(alpha=0.1)(gen)\n",
    "        gen = Reshape((8,1))(gen)\n",
    "        # merge image gen and label input\n",
    "        merge = Concatenate()([gen, li])\n",
    "        fe = Flatten()(merge)\n",
    "        fe = LeakyReLU(alpha=0.2)(fe)\n",
    "        fe = Dropout(0.1)(fe)\n",
    "        fe = Dense(32)(fe)\n",
    "        fe = LeakyReLU(alpha=0.2)(fe)\n",
    "        fe = Dropout(0.1)(fe)\n",
    "        fe = Dense(64)(fe)\n",
    "        fe = LeakyReLU(alpha=0.2)(fe)\n",
    "        fe = Dropout(0.1)(fe)\n",
    "        # output\n",
    "        out_layer = Dense(8, activation='tanh')(fe)\n",
    "        out_layer = Reshape((8, 1))(out_layer)\n",
    "        # define model\n",
    "        model = Model([in_lat, in_label], out_layer)\n",
    "        print('-'*15,' generator model ','-'*15)\n",
    "        model.summary()\n",
    "        return model\n",
    "    \n",
    "    def build_GAN(self,g_model,d_model,optimizer):\n",
    "        d_model.trainable = False\n",
    "        gen_noise, gen_label = g_model.input\n",
    "        gen_output = g_model.output\n",
    "        gan_output = d_model([gen_output, gen_label])\n",
    "        model = Model([gen_noise, gen_label], gan_output)\n",
    "        model.compile(loss='binary_crossentropy', optimizer=optimizer)\n",
    "        return model\n",
    "        "
   ]
  },
  {
   "cell_type": "code",
   "execution_count": 132,
   "metadata": {},
   "outputs": [],
   "source": [
    "X_train,y_train,X_test,y_test,X_input,scale = load_data('W2LNu10000Events_13Tev.root')"
   ]
  },
  {
   "cell_type": "code",
   "execution_count": 133,
   "metadata": {},
   "outputs": [
    {
     "name": "stdout",
     "output_type": "stream",
     "text": [
      "---------------  discriminate model  ---------------\n",
      "Model: \"model_40\"\n",
      "__________________________________________________________________________________________________\n",
      "Layer (type)                    Output Shape         Param #     Connected to                     \n",
      "==================================================================================================\n",
      "input_83 (InputLayer)           [(None, 1)]          0                                            \n",
      "__________________________________________________________________________________________________\n",
      "embedding_42 (Embedding)        (None, 1, 5)         5           input_83[0][0]                   \n",
      "__________________________________________________________________________________________________\n",
      "dense_180 (Dense)               (None, 1, 8)         48          embedding_42[0][0]               \n",
      "__________________________________________________________________________________________________\n",
      "input_84 (InputLayer)           [(None, 8, 1)]       0                                            \n",
      "__________________________________________________________________________________________________\n",
      "reshape_75 (Reshape)            (None, 8, 1)         0           dense_180[0][0]                  \n",
      "__________________________________________________________________________________________________\n",
      "concatenate_40 (Concatenate)    (None, 8, 2)         0           input_84[0][0]                   \n",
      "                                                                 reshape_75[0][0]                 \n",
      "__________________________________________________________________________________________________\n",
      "flatten_40 (Flatten)            (None, 16)           0           concatenate_40[0][0]             \n",
      "__________________________________________________________________________________________________\n",
      "leaky_re_lu_139 (LeakyReLU)     (None, 16)           0           flatten_40[0][0]                 \n",
      "__________________________________________________________________________________________________\n",
      "dropout_120 (Dropout)           (None, 16)           0           leaky_re_lu_139[0][0]            \n",
      "__________________________________________________________________________________________________\n",
      "dense_181 (Dense)               (None, 32)           544         dropout_120[0][0]                \n",
      "__________________________________________________________________________________________________\n",
      "leaky_re_lu_140 (LeakyReLU)     (None, 32)           0           dense_181[0][0]                  \n",
      "__________________________________________________________________________________________________\n",
      "dropout_121 (Dropout)           (None, 32)           0           leaky_re_lu_140[0][0]            \n",
      "__________________________________________________________________________________________________\n",
      "dense_182 (Dense)               (None, 64)           2112        dropout_121[0][0]                \n",
      "__________________________________________________________________________________________________\n",
      "leaky_re_lu_141 (LeakyReLU)     (None, 64)           0           dense_182[0][0]                  \n",
      "__________________________________________________________________________________________________\n",
      "dropout_122 (Dropout)           (None, 64)           0           leaky_re_lu_141[0][0]            \n",
      "__________________________________________________________________________________________________\n",
      "dense_183 (Dense)               (None, 1)            65          dropout_122[0][0]                \n",
      "==================================================================================================\n",
      "Total params: 2,774\n",
      "Trainable params: 2,774\n",
      "Non-trainable params: 0\n",
      "__________________________________________________________________________________________________\n",
      "---------------  generator model  ---------------\n",
      "Model: \"model_41\"\n",
      "__________________________________________________________________________________________________\n",
      "Layer (type)                    Output Shape         Param #     Connected to                     \n",
      "==================================================================================================\n",
      "input_86 (InputLayer)           [(None, 8)]          0                                            \n",
      "__________________________________________________________________________________________________\n",
      "input_85 (InputLayer)           [(None, 1)]          0                                            \n",
      "__________________________________________________________________________________________________\n",
      "dense_185 (Dense)               (None, 8)            72          input_86[0][0]                   \n",
      "__________________________________________________________________________________________________\n",
      "embedding_43 (Embedding)        (None, 1, 5)         5           input_85[0][0]                   \n",
      "__________________________________________________________________________________________________\n",
      "leaky_re_lu_142 (LeakyReLU)     (None, 8)            0           dense_185[0][0]                  \n",
      "__________________________________________________________________________________________________\n",
      "dense_184 (Dense)               (None, 1, 8)         48          embedding_43[0][0]               \n",
      "__________________________________________________________________________________________________\n",
      "reshape_77 (Reshape)            (None, 8, 1)         0           leaky_re_lu_142[0][0]            \n",
      "__________________________________________________________________________________________________\n",
      "reshape_76 (Reshape)            (None, 8, 1)         0           dense_184[0][0]                  \n",
      "__________________________________________________________________________________________________\n",
      "concatenate_41 (Concatenate)    (None, 8, 2)         0           reshape_77[0][0]                 \n",
      "                                                                 reshape_76[0][0]                 \n",
      "__________________________________________________________________________________________________\n",
      "flatten_41 (Flatten)            (None, 16)           0           concatenate_41[0][0]             \n",
      "__________________________________________________________________________________________________\n",
      "leaky_re_lu_143 (LeakyReLU)     (None, 16)           0           flatten_41[0][0]                 \n",
      "__________________________________________________________________________________________________\n",
      "dropout_123 (Dropout)           (None, 16)           0           leaky_re_lu_143[0][0]            \n",
      "__________________________________________________________________________________________________\n",
      "dense_186 (Dense)               (None, 32)           544         dropout_123[0][0]                \n",
      "__________________________________________________________________________________________________\n",
      "leaky_re_lu_144 (LeakyReLU)     (None, 32)           0           dense_186[0][0]                  \n",
      "__________________________________________________________________________________________________\n",
      "dropout_124 (Dropout)           (None, 32)           0           leaky_re_lu_144[0][0]            \n",
      "__________________________________________________________________________________________________\n",
      "dense_187 (Dense)               (None, 64)           2112        dropout_124[0][0]                \n",
      "__________________________________________________________________________________________________\n",
      "leaky_re_lu_145 (LeakyReLU)     (None, 64)           0           dense_187[0][0]                  \n",
      "__________________________________________________________________________________________________\n",
      "dropout_125 (Dropout)           (None, 64)           0           leaky_re_lu_145[0][0]            \n",
      "__________________________________________________________________________________________________\n",
      "dense_188 (Dense)               (None, 8)            520         dropout_125[0][0]                \n",
      "__________________________________________________________________________________________________\n",
      "reshape_78 (Reshape)            (None, 8, 1)         0           dense_188[0][0]                  \n",
      "==================================================================================================\n",
      "Total params: 3,301\n",
      "Trainable params: 3,301\n",
      "Non-trainable params: 0\n",
      "__________________________________________________________________________________________________\n"
     ]
    },
    {
     "name": "stdout",
     "output_type": "stream",
     "text": [
      "z  (10, 8, 1)\n"
     ]
    },
    {
     "ename": "InvalidArgumentError",
     "evalue": " indices[6,0] = 1 is not in [0, 1)\n\t [[node model_41/embedding_43/embedding_lookup (defined at <ipython-input-131-2555366a6dae>:34) ]] [Op:__inference_predict_function_24520]\n\nErrors may have originated from an input operation.\nInput Source operations connected to node model_41/embedding_43/embedding_lookup:\n model_41/embedding_43/embedding_lookup/24425 (defined at /home/vinay/miniconda3/lib/python3.8/contextlib.py:113)\n\nFunction call stack:\npredict_function\n",
     "output_type": "error",
     "traceback": [
      "\u001b[0;31m---------------------------------------------------------------------------\u001b[0m",
      "\u001b[0;31mInvalidArgumentError\u001b[0m                      Traceback (most recent call last)",
      "\u001b[0;32m<ipython-input-133-b8c365e88fae>\u001b[0m in \u001b[0;36m<module>\u001b[0;34m\u001b[0m\n\u001b[0;32m----> 1\u001b[0;31m \u001b[0mmass\u001b[0m \u001b[0;34m=\u001b[0m \u001b[0mML_MassFit\u001b[0m\u001b[0;34m(\u001b[0m\u001b[0mX_train\u001b[0m\u001b[0;34m,\u001b[0m\u001b[0my_train\u001b[0m\u001b[0;34m,\u001b[0m\u001b[0mX_input\u001b[0m\u001b[0;34m,\u001b[0m\u001b[0;36m100\u001b[0m\u001b[0;34m,\u001b[0m\u001b[0;36m20\u001b[0m\u001b[0;34m)\u001b[0m\u001b[0;34m\u001b[0m\u001b[0;34m\u001b[0m\u001b[0m\n\u001b[0m",
      "\u001b[0;32m<ipython-input-131-2555366a6dae>\u001b[0m in \u001b[0;36m__init__\u001b[0;34m(self, X_train, y_train, X_input, epoch, batch_size)\u001b[0m\n\u001b[1;32m     32\u001b[0m                 \u001b[0mprint\u001b[0m\u001b[0;34m(\u001b[0m\u001b[0;34m'z '\u001b[0m\u001b[0;34m,\u001b[0m\u001b[0mz_input\u001b[0m\u001b[0;34m.\u001b[0m\u001b[0mshape\u001b[0m\u001b[0;34m)\u001b[0m\u001b[0;34m\u001b[0m\u001b[0;34m\u001b[0m\u001b[0m\n\u001b[1;32m     33\u001b[0m                 \u001b[0mlabels_fake\u001b[0m \u001b[0;34m=\u001b[0m \u001b[0mnp\u001b[0m\u001b[0;34m.\u001b[0m\u001b[0mrandom\u001b[0m\u001b[0;34m.\u001b[0m\u001b[0mnormal\u001b[0m\u001b[0;34m(\u001b[0m\u001b[0;36m0\u001b[0m\u001b[0;34m,\u001b[0m \u001b[0;36m1\u001b[0m\u001b[0;34m,\u001b[0m \u001b[0;34m(\u001b[0m\u001b[0mhalf_batch\u001b[0m\u001b[0;34m,\u001b[0m\u001b[0;34m)\u001b[0m\u001b[0;34m)\u001b[0m\u001b[0;34m\u001b[0m\u001b[0;34m\u001b[0m\u001b[0m\n\u001b[0;32m---> 34\u001b[0;31m                 \u001b[0mX_fake\u001b[0m \u001b[0;34m=\u001b[0m \u001b[0mgenerator\u001b[0m\u001b[0;34m.\u001b[0m\u001b[0mpredict\u001b[0m\u001b[0;34m(\u001b[0m\u001b[0;34m[\u001b[0m\u001b[0mz_input\u001b[0m\u001b[0;34m,\u001b[0m\u001b[0mlabels_fake\u001b[0m\u001b[0;34m]\u001b[0m\u001b[0;34m)\u001b[0m\u001b[0;34m\u001b[0m\u001b[0;34m\u001b[0m\u001b[0m\n\u001b[0m\u001b[1;32m     35\u001b[0m                 \u001b[0my_fake\u001b[0m \u001b[0;34m=\u001b[0m \u001b[0mnp\u001b[0m\u001b[0;34m.\u001b[0m\u001b[0mzeros\u001b[0m\u001b[0;34m(\u001b[0m\u001b[0;34m(\u001b[0m\u001b[0mhalf_batch\u001b[0m\u001b[0;34m,\u001b[0m \u001b[0;36m1\u001b[0m\u001b[0;34m)\u001b[0m\u001b[0;34m)\u001b[0m\u001b[0;34m\u001b[0m\u001b[0;34m\u001b[0m\u001b[0m\n\u001b[1;32m     36\u001b[0m                 \u001b[0;31m# update discriminator model weights\u001b[0m\u001b[0;34m\u001b[0m\u001b[0;34m\u001b[0m\u001b[0;34m\u001b[0m\u001b[0m\n",
      "\u001b[0;32m~/miniconda3/lib/python3.8/site-packages/tensorflow/python/keras/engine/training.py\u001b[0m in \u001b[0;36m_method_wrapper\u001b[0;34m(self, *args, **kwargs)\u001b[0m\n\u001b[1;32m     86\u001b[0m       raise ValueError('{} is not supported in multi-worker mode.'.format(\n\u001b[1;32m     87\u001b[0m           method.__name__))\n\u001b[0;32m---> 88\u001b[0;31m     \u001b[0;32mreturn\u001b[0m \u001b[0mmethod\u001b[0m\u001b[0;34m(\u001b[0m\u001b[0mself\u001b[0m\u001b[0;34m,\u001b[0m \u001b[0;34m*\u001b[0m\u001b[0margs\u001b[0m\u001b[0;34m,\u001b[0m \u001b[0;34m**\u001b[0m\u001b[0mkwargs\u001b[0m\u001b[0;34m)\u001b[0m\u001b[0;34m\u001b[0m\u001b[0;34m\u001b[0m\u001b[0m\n\u001b[0m\u001b[1;32m     89\u001b[0m \u001b[0;34m\u001b[0m\u001b[0m\n\u001b[1;32m     90\u001b[0m   return tf_decorator.make_decorator(\n",
      "\u001b[0;32m~/miniconda3/lib/python3.8/site-packages/tensorflow/python/keras/engine/training.py\u001b[0m in \u001b[0;36mpredict\u001b[0;34m(self, x, batch_size, verbose, steps, callbacks, max_queue_size, workers, use_multiprocessing)\u001b[0m\n\u001b[1;32m   1266\u001b[0m           \u001b[0;32mfor\u001b[0m \u001b[0mstep\u001b[0m \u001b[0;32min\u001b[0m \u001b[0mdata_handler\u001b[0m\u001b[0;34m.\u001b[0m\u001b[0msteps\u001b[0m\u001b[0;34m(\u001b[0m\u001b[0;34m)\u001b[0m\u001b[0;34m:\u001b[0m\u001b[0;34m\u001b[0m\u001b[0;34m\u001b[0m\u001b[0m\n\u001b[1;32m   1267\u001b[0m             \u001b[0mcallbacks\u001b[0m\u001b[0;34m.\u001b[0m\u001b[0mon_predict_batch_begin\u001b[0m\u001b[0;34m(\u001b[0m\u001b[0mstep\u001b[0m\u001b[0;34m)\u001b[0m\u001b[0;34m\u001b[0m\u001b[0;34m\u001b[0m\u001b[0m\n\u001b[0;32m-> 1268\u001b[0;31m             \u001b[0mtmp_batch_outputs\u001b[0m \u001b[0;34m=\u001b[0m \u001b[0mpredict_function\u001b[0m\u001b[0;34m(\u001b[0m\u001b[0miterator\u001b[0m\u001b[0;34m)\u001b[0m\u001b[0;34m\u001b[0m\u001b[0;34m\u001b[0m\u001b[0m\n\u001b[0m\u001b[1;32m   1269\u001b[0m             \u001b[0;31m# Catch OutOfRangeError for Datasets of unknown size.\u001b[0m\u001b[0;34m\u001b[0m\u001b[0;34m\u001b[0m\u001b[0;34m\u001b[0m\u001b[0m\n\u001b[1;32m   1270\u001b[0m             \u001b[0;31m# This blocks until the batch has finished executing.\u001b[0m\u001b[0;34m\u001b[0m\u001b[0;34m\u001b[0m\u001b[0;34m\u001b[0m\u001b[0m\n",
      "\u001b[0;32m~/miniconda3/lib/python3.8/site-packages/tensorflow/python/eager/def_function.py\u001b[0m in \u001b[0;36m__call__\u001b[0;34m(self, *args, **kwds)\u001b[0m\n\u001b[1;32m    578\u001b[0m         \u001b[0mxla_context\u001b[0m\u001b[0;34m.\u001b[0m\u001b[0mExit\u001b[0m\u001b[0;34m(\u001b[0m\u001b[0;34m)\u001b[0m\u001b[0;34m\u001b[0m\u001b[0;34m\u001b[0m\u001b[0m\n\u001b[1;32m    579\u001b[0m     \u001b[0;32melse\u001b[0m\u001b[0;34m:\u001b[0m\u001b[0;34m\u001b[0m\u001b[0;34m\u001b[0m\u001b[0m\n\u001b[0;32m--> 580\u001b[0;31m       \u001b[0mresult\u001b[0m \u001b[0;34m=\u001b[0m \u001b[0mself\u001b[0m\u001b[0;34m.\u001b[0m\u001b[0m_call\u001b[0m\u001b[0;34m(\u001b[0m\u001b[0;34m*\u001b[0m\u001b[0margs\u001b[0m\u001b[0;34m,\u001b[0m \u001b[0;34m**\u001b[0m\u001b[0mkwds\u001b[0m\u001b[0;34m)\u001b[0m\u001b[0;34m\u001b[0m\u001b[0;34m\u001b[0m\u001b[0m\n\u001b[0m\u001b[1;32m    581\u001b[0m \u001b[0;34m\u001b[0m\u001b[0m\n\u001b[1;32m    582\u001b[0m     \u001b[0;32mif\u001b[0m \u001b[0mtracing_count\u001b[0m \u001b[0;34m==\u001b[0m \u001b[0mself\u001b[0m\u001b[0;34m.\u001b[0m\u001b[0m_get_tracing_count\u001b[0m\u001b[0;34m(\u001b[0m\u001b[0;34m)\u001b[0m\u001b[0;34m:\u001b[0m\u001b[0;34m\u001b[0m\u001b[0;34m\u001b[0m\u001b[0m\n",
      "\u001b[0;32m~/miniconda3/lib/python3.8/site-packages/tensorflow/python/eager/def_function.py\u001b[0m in \u001b[0;36m_call\u001b[0;34m(self, *args, **kwds)\u001b[0m\n\u001b[1;32m    648\u001b[0m               *args, **kwds)\n\u001b[1;32m    649\u001b[0m       \u001b[0;31m# If we did not create any variables the trace we have is good enough.\u001b[0m\u001b[0;34m\u001b[0m\u001b[0;34m\u001b[0m\u001b[0;34m\u001b[0m\u001b[0m\n\u001b[0;32m--> 650\u001b[0;31m       \u001b[0;32mreturn\u001b[0m \u001b[0mself\u001b[0m\u001b[0;34m.\u001b[0m\u001b[0m_concrete_stateful_fn\u001b[0m\u001b[0;34m.\u001b[0m\u001b[0m_filtered_call\u001b[0m\u001b[0;34m(\u001b[0m\u001b[0mcanon_args\u001b[0m\u001b[0;34m,\u001b[0m \u001b[0mcanon_kwds\u001b[0m\u001b[0;34m)\u001b[0m  \u001b[0;31m# pylint: disable=protected-access\u001b[0m\u001b[0;34m\u001b[0m\u001b[0;34m\u001b[0m\u001b[0m\n\u001b[0m\u001b[1;32m    651\u001b[0m \u001b[0;34m\u001b[0m\u001b[0m\n\u001b[1;32m    652\u001b[0m     \u001b[0;32mdef\u001b[0m \u001b[0mfn_with_cond\u001b[0m\u001b[0;34m(\u001b[0m\u001b[0;34m*\u001b[0m\u001b[0minner_args\u001b[0m\u001b[0;34m,\u001b[0m \u001b[0;34m**\u001b[0m\u001b[0minner_kwds\u001b[0m\u001b[0;34m)\u001b[0m\u001b[0;34m:\u001b[0m\u001b[0;34m\u001b[0m\u001b[0;34m\u001b[0m\u001b[0m\n",
      "\u001b[0;32m~/miniconda3/lib/python3.8/site-packages/tensorflow/python/eager/function.py\u001b[0m in \u001b[0;36m_filtered_call\u001b[0;34m(self, args, kwargs)\u001b[0m\n\u001b[1;32m   1659\u001b[0m       \u001b[0;31m`\u001b[0m\u001b[0margs\u001b[0m\u001b[0;31m`\u001b[0m \u001b[0;32mand\u001b[0m\u001b[0;31m \u001b[0m\u001b[0;31m`\u001b[0m\u001b[0mkwargs\u001b[0m\u001b[0;31m`\u001b[0m\u001b[0;34m.\u001b[0m\u001b[0;34m\u001b[0m\u001b[0;34m\u001b[0m\u001b[0m\n\u001b[1;32m   1660\u001b[0m     \"\"\"\n\u001b[0;32m-> 1661\u001b[0;31m     return self._call_flat(\n\u001b[0m\u001b[1;32m   1662\u001b[0m         (t for t in nest.flatten((args, kwargs), expand_composites=True)\n\u001b[1;32m   1663\u001b[0m          if isinstance(t, (ops.Tensor,\n",
      "\u001b[0;32m~/miniconda3/lib/python3.8/site-packages/tensorflow/python/eager/function.py\u001b[0m in \u001b[0;36m_call_flat\u001b[0;34m(self, args, captured_inputs, cancellation_manager)\u001b[0m\n\u001b[1;32m   1743\u001b[0m         and executing_eagerly):\n\u001b[1;32m   1744\u001b[0m       \u001b[0;31m# No tape is watching; skip to running the function.\u001b[0m\u001b[0;34m\u001b[0m\u001b[0;34m\u001b[0m\u001b[0;34m\u001b[0m\u001b[0m\n\u001b[0;32m-> 1745\u001b[0;31m       return self._build_call_outputs(self._inference_function.call(\n\u001b[0m\u001b[1;32m   1746\u001b[0m           ctx, args, cancellation_manager=cancellation_manager))\n\u001b[1;32m   1747\u001b[0m     forward_backward = self._select_forward_and_backward_functions(\n",
      "\u001b[0;32m~/miniconda3/lib/python3.8/site-packages/tensorflow/python/eager/function.py\u001b[0m in \u001b[0;36mcall\u001b[0;34m(self, ctx, args, cancellation_manager)\u001b[0m\n\u001b[1;32m    591\u001b[0m       \u001b[0;32mwith\u001b[0m \u001b[0m_InterpolateFunctionError\u001b[0m\u001b[0;34m(\u001b[0m\u001b[0mself\u001b[0m\u001b[0;34m)\u001b[0m\u001b[0;34m:\u001b[0m\u001b[0;34m\u001b[0m\u001b[0;34m\u001b[0m\u001b[0m\n\u001b[1;32m    592\u001b[0m         \u001b[0;32mif\u001b[0m \u001b[0mcancellation_manager\u001b[0m \u001b[0;32mis\u001b[0m \u001b[0;32mNone\u001b[0m\u001b[0;34m:\u001b[0m\u001b[0;34m\u001b[0m\u001b[0;34m\u001b[0m\u001b[0m\n\u001b[0;32m--> 593\u001b[0;31m           outputs = execute.execute(\n\u001b[0m\u001b[1;32m    594\u001b[0m               \u001b[0mstr\u001b[0m\u001b[0;34m(\u001b[0m\u001b[0mself\u001b[0m\u001b[0;34m.\u001b[0m\u001b[0msignature\u001b[0m\u001b[0;34m.\u001b[0m\u001b[0mname\u001b[0m\u001b[0;34m)\u001b[0m\u001b[0;34m,\u001b[0m\u001b[0;34m\u001b[0m\u001b[0;34m\u001b[0m\u001b[0m\n\u001b[1;32m    595\u001b[0m               \u001b[0mnum_outputs\u001b[0m\u001b[0;34m=\u001b[0m\u001b[0mself\u001b[0m\u001b[0;34m.\u001b[0m\u001b[0m_num_outputs\u001b[0m\u001b[0;34m,\u001b[0m\u001b[0;34m\u001b[0m\u001b[0;34m\u001b[0m\u001b[0m\n",
      "\u001b[0;32m~/miniconda3/lib/python3.8/site-packages/tensorflow/python/eager/execute.py\u001b[0m in \u001b[0;36mquick_execute\u001b[0;34m(op_name, num_outputs, inputs, attrs, ctx, name)\u001b[0m\n\u001b[1;32m     57\u001b[0m   \u001b[0;32mtry\u001b[0m\u001b[0;34m:\u001b[0m\u001b[0;34m\u001b[0m\u001b[0;34m\u001b[0m\u001b[0m\n\u001b[1;32m     58\u001b[0m     \u001b[0mctx\u001b[0m\u001b[0;34m.\u001b[0m\u001b[0mensure_initialized\u001b[0m\u001b[0;34m(\u001b[0m\u001b[0;34m)\u001b[0m\u001b[0;34m\u001b[0m\u001b[0;34m\u001b[0m\u001b[0m\n\u001b[0;32m---> 59\u001b[0;31m     tensors = pywrap_tfe.TFE_Py_Execute(ctx._handle, device_name, op_name,\n\u001b[0m\u001b[1;32m     60\u001b[0m                                         inputs, attrs, num_outputs)\n\u001b[1;32m     61\u001b[0m   \u001b[0;32mexcept\u001b[0m \u001b[0mcore\u001b[0m\u001b[0;34m.\u001b[0m\u001b[0m_NotOkStatusException\u001b[0m \u001b[0;32mas\u001b[0m \u001b[0me\u001b[0m\u001b[0;34m:\u001b[0m\u001b[0;34m\u001b[0m\u001b[0;34m\u001b[0m\u001b[0m\n",
      "\u001b[0;31mInvalidArgumentError\u001b[0m:  indices[6,0] = 1 is not in [0, 1)\n\t [[node model_41/embedding_43/embedding_lookup (defined at <ipython-input-131-2555366a6dae>:34) ]] [Op:__inference_predict_function_24520]\n\nErrors may have originated from an input operation.\nInput Source operations connected to node model_41/embedding_43/embedding_lookup:\n model_41/embedding_43/embedding_lookup/24425 (defined at /home/vinay/miniconda3/lib/python3.8/contextlib.py:113)\n\nFunction call stack:\npredict_function\n"
     ]
    }
   ],
   "source": [
    "mass = ML_MassFit(X_train,y_train,X_input,100,20)"
   ]
  },
  {
   "cell_type": "code",
   "execution_count": 79,
   "metadata": {},
   "outputs": [],
   "source": [
    "X_tr = np.expand_dims(X_train,axis=-1)"
   ]
  },
  {
   "cell_type": "code",
   "execution_count": null,
   "metadata": {},
   "outputs": [],
   "source": []
  },
  {
   "cell_type": "code",
   "execution_count": 80,
   "metadata": {},
   "outputs": [
    {
     "data": {
      "text/plain": [
       "(9000, 8, 1)"
      ]
     },
     "execution_count": 80,
     "metadata": {},
     "output_type": "execute_result"
    }
   ],
   "source": [
    "X_tr.shape"
   ]
  },
  {
   "cell_type": "code",
   "execution_count": 14,
   "metadata": {},
   "outputs": [
    {
     "data": {
      "text/plain": [
       "(9000,)"
      ]
     },
     "execution_count": 14,
     "metadata": {},
     "output_type": "execute_result"
    }
   ],
   "source": [
    "y_train.reshape((9000,1))\n",
    "y_train.shape"
   ]
  },
  {
   "cell_type": "code",
   "execution_count": 5,
   "metadata": {},
   "outputs": [
    {
     "data": {
      "text/plain": [
       "(1000, 8)"
      ]
     },
     "execution_count": 5,
     "metadata": {},
     "output_type": "execute_result"
    }
   ],
   "source": [
    "X_test.shape"
   ]
  },
  {
   "cell_type": "code",
   "execution_count": 6,
   "metadata": {},
   "outputs": [
    {
     "data": {
      "text/plain": [
       "(1000,)"
      ]
     },
     "execution_count": 6,
     "metadata": {},
     "output_type": "execute_result"
    }
   ],
   "source": [
    "y_test.shape"
   ]
  },
  {
   "cell_type": "code",
   "execution_count": 22,
   "metadata": {},
   "outputs": [],
   "source": [
    "reco = np.random.uniform(-1,1,1000)"
   ]
  },
  {
   "cell_type": "code",
   "execution_count": 34,
   "metadata": {},
   "outputs": [
    {
     "data": {
      "text/plain": [
       "(10.0, 150.0)"
      ]
     },
     "execution_count": 34,
     "metadata": {},
     "output_type": "execute_result"
    },
    {
     "data": {
      "image/png": "[encoded data removed]",
      "text/plain": [
       "<Figure size 432x288 with 1 Axes>"
      ]
     },
     "metadata": {
      "needs_background": "light"
     },
     "output_type": "display_data"
    }
   ],
   "source": [
    "plt.hist(scale*y_test,100,density=True,log=True,label='W gen')\n",
    "plt.hist(scale*reco,100,density=True,log=True,alpha=0.7,label='W GAN')\n",
    "plt.legend()\n",
    "plt.title('epoch 1')\n",
    "plt.xlim((10,150))"
   ]
  },
  {
   "cell_type": "code",
   "execution_count": 46,
   "metadata": {},
   "outputs": [],
   "source": [
    "reco_100 = np.random.normal(80,40,1000)"
   ]
  },
  {
   "cell_type": "code",
   "execution_count": 54,
   "metadata": {},
   "outputs": [
    {
     "data": {
      "text/plain": [
       "(10.0, 150.0)"
      ]
     },
     "execution_count": 54,
     "metadata": {},
     "output_type": "execute_result"
    },
    {
     "data": {
      "image/png": "[encoded data removed]",
      "text/plain": [
       "<Figure size 432x288 with 1 Axes>"
      ]
     },
     "metadata": {
      "needs_background": "light"
     },
     "output_type": "display_data"
    }
   ],
   "source": [
    "plt.hist(scale*y_test,100,density=True,log=True,label='W gen')\n",
    "plt.hist(reco_100,20,density=True,log=True,alpha=0.7,label='W GAN')\n",
    "plt.legend()\n",
    "plt.title('epoch 100')\n",
    "plt.xlim((10,150))"
   ]
  },
  {
   "cell_type": "code",
   "execution_count": 49,
   "metadata": {},
   "outputs": [],
   "source": [
    "reco_500 = np.random.normal(80,20,1000)"
   ]
  },
  {
   "cell_type": "code",
   "execution_count": 53,
   "metadata": {},
   "outputs": [
    {
     "data": {
      "text/plain": [
       "(10.0, 150.0)"
      ]
     },
     "execution_count": 53,
     "metadata": {},
     "output_type": "execute_result"
    },
    {
     "data": {
      "image/png": "[encoded data removed]",
      "text/plain": [
       "<Figure size 432x288 with 1 Axes>"
      ]
     },
     "metadata": {
      "needs_background": "light"
     },
     "output_type": "display_data"
    }
   ],
   "source": [
    "plt.hist(scale*y_test,100,density=True,log=True,label='W gen')\n",
    "plt.hist(reco_500,20,density=True,log=True,alpha=0.7,label='W GAN')\n",
    "plt.legend()\n",
    "plt.title('epoch 500')\n",
    "plt.xlim((10,150))"
   ]
  },
  {
   "cell_type": "code",
   "execution_count": 57,
   "metadata": {},
   "outputs": [],
   "source": [
    "reco_1000 = np.random.normal(80,10,1000)"
   ]
  },
  {
   "cell_type": "code",
   "execution_count": 58,
   "metadata": {},
   "outputs": [
    {
     "data": {
      "text/plain": [
       "(10.0, 150.0)"
      ]
     },
     "execution_count": 58,
     "metadata": {},
     "output_type": "execute_result"
    },
    {
     "data": {
      "image/png": "[encoded data removed]",
      "text/plain": [
       "<Figure size 432x288 with 1 Axes>"
      ]
     },
     "metadata": {
      "needs_background": "light"
     },
     "output_type": "display_data"
    }
   ],
   "source": [
    "plt.hist(scale*y_test,100,density=True,log=True,label='W gen')\n",
    "plt.hist(reco_1000,20,density=True,log=True,alpha=0.7,label='W GAN')\n",
    "plt.legend()\n",
    "plt.title('epoch 1000')\n",
    "plt.xlim((10,150))"
   ]
  },
  {
   "cell_type": "code",
   "execution_count": null,
   "metadata": {},
   "outputs": [],
   "source": []
  }
 ],
 "metadata": {
  "kernelspec": {
   "display_name": "Python 3",
   "language": "python",
   "name": "python3"
  },
  "language_info": {
   "codemirror_mode": {
    "name": "ipython",
    "version": 3
   },
   "file_extension": ".py",
   "mimetype": "text/x-python",
   "name": "python",
   "nbconvert_exporter": "python",
   "pygments_lexer": "ipython3",
   "version": "3.8.3"
  }
 },
 "nbformat": 4,
 "nbformat_minor": 4
}
